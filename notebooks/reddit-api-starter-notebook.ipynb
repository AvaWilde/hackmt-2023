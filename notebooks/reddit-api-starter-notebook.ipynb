{
 "cells": [
  {
   "attachments": {},
   "cell_type": "markdown",
   "metadata": {},
   "source": [
    "## Getting Started\n",
    "\n",
    "Before being able to run this notebook, you will need to set up an `.env` file in your root directory. You will do this by making a copy of [.env_template](../.env_template) and renaming it to `.env`. You will need to reach out to a team organizer that can provide help with getting the `reddit_client_id`, `reddit_client_secret`, and `reddit_user_agent`.\n",
    "\n",
    "Additionally, you will need to install the packages designated in the [requirements.txt](../requirements.txt) file.\n",
    "\n",
    "Once configured, you will be able to run all of the cells in this notebook."
   ]
  },
  {
   "cell_type": "code",
   "execution_count": 1,
   "metadata": {},
   "outputs": [
    {
     "data": {
      "text/plain": [
       "True"
      ]
     },
     "execution_count": 1,
     "metadata": {},
     "output_type": "execute_result"
    }
   ],
   "source": [
    "import praw\n",
    "import os\n",
    "from dotenv import load_dotenv\n",
    "\n",
    "load_dotenv()"
   ]
  },
  {
   "cell_type": "code",
   "execution_count": 3,
   "metadata": {},
   "outputs": [],
   "source": [
    "reddit = praw.Reddit(\n",
    "    client_id=os.environ[\"reddit_client_id\"],\n",
    "    client_secret=os.environ[\"reddit_client_secret\"],\n",
    "    user_agent=os.environ[\"reddit_user_agent\"],\n",
    ")"
   ]
  },
  {
   "cell_type": "code",
   "execution_count": 4,
   "metadata": {},
   "outputs": [
    {
     "name": "stdout",
     "output_type": "stream",
     "text": [
      "True\n"
     ]
    }
   ],
   "source": [
    "print(reddit.read_only)"
   ]
  },
  {
   "cell_type": "code",
   "execution_count": 6,
   "metadata": {},
   "outputs": [
    {
     "name": "stdout",
     "output_type": "stream",
     "text": [
      "test\n",
      "Paradise Denied: Copyright (Or Not) In AI-Generated Images\n",
      "Glaucoma tips: UV radiation hazard\n",
      "EU-US Transborder Data Flows to be Reviewed by the European Data Protection Board\n",
      "Seventh Circuit Affirms District Court Decision Refusing To Refer Putative Class Action Under the Illinois Biometric Information Privacy Act to Arbitration\n",
      "Virginians Ring In New Year With New Privacy Act\n",
      "Court Rules that Earn Account Assets are Property of the Debtor: Celsius Bankruptcy Case: January 13, 2023\n",
      "EU MDR And IVDR Implementation: European Commission Publishes Full Proposal For Amending Transitional Regime\n",
      "University of Texas at Austin Permanently Blocks TikTok on Network\n",
      "IRS CCMs on Crypto Donations and Crypto Losses\n",
      "test\n",
      "ttt\n",
      "Ask JeePT: Does ChatGPT replace a traditional trademark availability search?\n",
      "Do Androids Dream Of Copyright Registration? – AI Art And Copyright\n",
      "[Webinar] Reimagining Medicine: Can Policy Keep Pace With Scientific Advances? - February 1st, 1:00 pm - 2:00 pm ET\n"
     ]
    }
   ],
   "source": [
    "for submission in reddit.subreddit(\"test\").hot(limit=15):\n",
    "    print(submission.title)"
   ]
  },
  {
   "cell_type": "code",
   "execution_count": 8,
   "metadata": {},
   "outputs": [
    {
     "name": "stdout",
     "output_type": "stream",
     "text": [
      "funny\n",
      "funny\n"
     ]
    }
   ],
   "source": [
    "subreddit_funny = reddit.subreddit(\"funny\")\n",
    "\n",
    "print(subreddit_funny.display_name)\n",
    "print(subreddit_funny.title)\n"
   ]
  },
  {
   "cell_type": "code",
   "execution_count": 11,
   "metadata": {},
   "outputs": [],
   "source": [
    "# print(subreddit_funny.description)\n",
    "# output: description"
   ]
  },
  {
   "cell_type": "code",
   "execution_count": 12,
   "metadata": {},
   "outputs": [
    {
     "name": "stdout",
     "output_type": "stream",
     "text": [
      "My cab driver tonight was so excited to share with me that he’d made the cover of the calendar. I told him I’d help let the world see\n",
      "308580\n",
      "7mjw12\n",
      "https://i.redd.it/tojcmbvjwk601.jpg\n",
      "Guardians of the Front Page\n",
      "283991\n",
      "5gn8ru\n",
      "http://i.imgur.com/OOFRJvr.gifv\n",
      "Gas station worker takes precautionary measures after customer refused to put out his cigarette\n",
      "263335\n",
      "7431qq\n",
      "https://gfycat.com/ResponsibleJadedAmericancurl\n",
      "The conversation my son and I will have on Christmas Eve.\n",
      "237018\n",
      "7kvjuz\n",
      "https://i.imgur.com/yH25jLZ.gifv\n",
      "The Denver Broncos have the entire town of ‘South Park’ in the stands for today’s NFL game.\n",
      "226365\n",
      "j0w79j\n",
      "https://i.redd.it/x9h34hp8iqp51.jpg\n",
      "Printers\n",
      "220617\n",
      "d2bwot\n",
      "https://i.redd.it/jlx9wokn7tl31.jpg\n",
      "Just increased my car’s value by 1 billion dollars\n",
      "219446\n",
      "i0wgoo\n",
      "https://v.redd.it/wa4bmlccu2e51\n",
      "My grandma wanted some “creative” grad photos of my friend since we’re graduating at the same time. This was her least favorite\n",
      "217210\n",
      "ge4l65\n",
      "https://i.redd.it/gsnsg2xj20x41.jpg\n",
      "Today one of my 4th grade students renamed himself \"reconecting ...\" on our Zoom call and pretended that he was having internet issues to avoid participating in our lesson.\n",
      "211543\n",
      "ghujvl\n",
      "https://imgur.com/k9p0AJQ\n",
      "Zuckerberg right now\n",
      "208214\n",
      "q1a7iu\n",
      "https://i.redd.it/xfswcv73xgr71.jpg\n"
     ]
    }
   ],
   "source": [
    "for submission in subreddit_funny.top(limit=10):\n",
    "    print(submission.title)\n",
    "    # Output: the submission's title\n",
    "    print(submission.score)\n",
    "    # Output: the submission's score\n",
    "    print(submission.id)\n",
    "    # Output: the submission's ID\n",
    "    print(submission.url)"
   ]
  }
 ],
 "metadata": {
  "kernelspec": {
   "display_name": "hackmt-2023-Ixx92jts-py3.10",
   "language": "python",
   "name": "python3"
  },
  "language_info": {
   "codemirror_mode": {
    "name": "ipython",
    "version": 3
   },
   "file_extension": ".py",
   "mimetype": "text/x-python",
   "name": "python",
   "nbconvert_exporter": "python",
   "pygments_lexer": "ipython3",
   "version": "3.10.2"
  },
  "orig_nbformat": 4,
  "vscode": {
   "interpreter": {
    "hash": "18f3bec07162dbda8f6b7a88a87618d1de33f97370e48c013a6d2883142dc9bf"
   }
  }
 },
 "nbformat": 4,
 "nbformat_minor": 2
}
